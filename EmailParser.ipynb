{
 "cells": [
  {
   "cell_type": "code",
   "execution_count": null,
   "metadata": {},
   "outputs": [],
   "source": [
    "import mailbox\n",
    "import email.utils\n",
    "import pandas as pd\n",
    "import exifread\n",
    "from datetime import datetime, timezone\n",
    "import pytz\n",
    "from ipywidgets import IntProgress, IntText"
   ]
  },
  {
   "cell_type": "code",
   "execution_count": null,
   "metadata": {},
   "outputs": [],
   "source": [
    "filename = \"tgthorley.mbox\"\n",
    "filepath = './data/test/'\n",
    "\n",
    "mbox = mailbox.mbox(filepath+ filename)"
   ]
  },
  {
   "cell_type": "code",
   "execution_count": null,
   "metadata": {},
   "outputs": [],
   "source": [
    "#takes an image path and retruns exif data\n",
    "def parse_img(imgpath):\n",
    "    try:\n",
    "        f = open(imgpath, 'rb')\n",
    "        tags = exifread.process_file(f)\n",
    "        return tags\n",
    "    except:\n",
    "        print(\"Failed to extract exif %s\" % imgpath)\n",
    "        return []"
   ]
  },
  {
   "cell_type": "code",
   "execution_count": null,
   "metadata": {},
   "outputs": [],
   "source": [
    "#takes a message with an attached immage  and returns the exif data\n",
    "def getexif_from_attached_image(message):\n",
    "    for part in message.walk():\n",
    "        if 'image' in part.get_content_type():\n",
    "            try:\n",
    "                filename = part.get_filename()\n",
    "                filepath = \"./attachements/\"+filename\n",
    "                fb = open(filepath,'wb')\n",
    "                fb.write(part.get_payload(decode=True))\n",
    "                fb.close()\n",
    "                tags = parse_img(filepath)\n",
    "                return tags\n",
    "            except:\n",
    "                print (\"File not found\", filename)\n",
    "                continue\n",
    "        else: continue"
   ]
  },
  {
   "cell_type": "code",
   "execution_count": null,
   "metadata": {},
   "outputs": [],
   "source": [
    "emails = []\n",
    "i=0\n",
    "progressBar = IntProgress(description='Processing emails '+str(len(mbox)), min=0, max=len(mbox), style = {'description_width': 'initial'})\n",
    "progressText = IntText(value=0, description='Processed so far: ', style = {'description_width': 'initial'})\n",
    "display(progressBar, progressText)\n",
    "\n",
    "#iterate through th\n",
    "for message in mbox:\n",
    "    i= i+1\n",
    "    if message.get_content_maintype() == 'multipart':\n",
    "        for part in message.walk():\n",
    "            if 'image' in part.get_content_type():\n",
    "                tags = getexif_from_attached_image(message)\n",
    "                try:\n",
    "                    if \"EXIF DateTimeOriginal\" in tags:\n",
    "                        emaildate = email.utils.parsedate_to_datetime(message['Date']).astimezone(pytz.utc)\n",
    "                        imgdate = datetime.strptime(tags[\"EXIF DateTimeOriginal\"].values, '%Y:%m:%d %H:%M:%S').astimezone(pytz.utc)\n",
    "                        timediff = emaildate - imgdate\n",
    "                        if timediff.total_seconds() > 0 and timediff.total_seconds() < 86400:\n",
    "                            print ('WARNING: Image taken less than a day after sending\\n', message['Message-ID'], message['Subject'] )\n",
    "                        email_sum = {\n",
    "                            \"email_date\": emaildate,\n",
    "                            \"img_date\": imgdate,\n",
    "                            \"_id\": message['Message-ID'],\n",
    "                            \"subject\": message['Subject'],\n",
    "                            \"timediff\": timediff\n",
    "                        }\n",
    "                        emails.append(email_sum)\n",
    "                        progressBar.value = i\n",
    "                        progressText.value = i\n",
    "                except: \n",
    "                    print(\"Error\", message['Subject'])\n",
    "                    continue"
   ]
  },
  {
   "cell_type": "code",
   "execution_count": null,
   "metadata": {},
   "outputs": [],
   "source": [
    "df = pd.DataFrame(emails)\n",
    "df.sort_values(\"timediff\")"
   ]
  }
 ],
 "metadata": {
  "kernelspec": {
   "display_name": "Python 3",
   "language": "python",
   "name": "python3"
  },
  "language_info": {
   "codemirror_mode": {
    "name": "ipython",
    "version": 3
   },
   "file_extension": ".py",
   "mimetype": "text/x-python",
   "name": "python",
   "nbconvert_exporter": "python",
   "pygments_lexer": "ipython3",
   "version": "3.6.5"
  }
 },
 "nbformat": 4,
 "nbformat_minor": 2
}
