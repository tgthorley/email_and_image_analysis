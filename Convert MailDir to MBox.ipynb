{
 "cells": [
  {
   "cell_type": "code",
   "execution_count": null,
   "metadata": {},
   "outputs": [],
   "source": [
    "import mailbox\n",
    "import sys\n",
    "import email\n",
    "import os"
   ]
  },
  {
   "cell_type": "code",
   "execution_count": null,
   "metadata": {},
   "outputs": [],
   "source": [
    "maildirname=\"test.maildir\"\n",
    "mboxname=\"test.mbox\""
   ]
  },
  {
   "cell_type": "code",
   "execution_count": null,
   "metadata": {},
   "outputs": [],
   "source": [
    "def maildir2mailbox(maildirname, mboxfilename):\n",
    "    maildir = mailbox.Maildir(maildirname, email.message_from_file)\n",
    "    mbox = mailbox.mbox(mboxfilename)\n",
    "    mbox.lock()\n",
    "\n",
    "    for msg in maildir:\n",
    "        mbox.add(msg)\n",
    "    mbox.close()\n",
    "    maildir.close()"
   ]
  },
  {
   "cell_type": "code",
   "execution_count": null,
   "metadata": {},
   "outputs": [],
   "source": [
    "maildir2mailbox(maildirname,mboxname)"
   ]
  }
 ],
 "metadata": {
  "kernelspec": {
   "display_name": "Python 3",
   "language": "python",
   "name": "python3"
  },
  "language_info": {
   "codemirror_mode": {
    "name": "ipython",
    "version": 3
   },
   "file_extension": ".py",
   "mimetype": "text/x-python",
   "name": "python",
   "nbconvert_exporter": "python",
   "pygments_lexer": "ipython3",
   "version": "3.6.5"
  }
 },
 "nbformat": 4,
 "nbformat_minor": 2
}
