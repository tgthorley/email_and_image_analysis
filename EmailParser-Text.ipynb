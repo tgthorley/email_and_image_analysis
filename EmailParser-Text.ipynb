{
 "cells": [
  {
   "cell_type": "code",
   "execution_count": null,
   "metadata": {},
   "outputs": [],
   "source": [
    "import mailbox\n",
    "import email.utils\n",
    "import pandas as pd\n",
    "from datetime import datetime, timezone\n",
    "import pytz\n",
    "from ipywidgets import IntProgress, IntText\n",
    "import docx\n",
    "import PyPDF2\n",
    "import gensim\n",
    "import numpy as np"
   ]
  },
  {
   "cell_type": "code",
   "execution_count": null,
   "metadata": {},
   "outputs": [],
   "source": [
    "filename = \"tgthorley.mbox\"\n",
    "filepath = './data/test/'\n",
    "\n",
    "mbox = mailbox.mbox(filepath + filename)"
   ]
  },
  {
   "cell_type": "code",
   "execution_count": null,
   "metadata": {},
   "outputs": [],
   "source": [
    "def create_email_summary(message):\n",
    "    emaildate = email.utils.parsedate_to_datetime(message['Date']).astimezone(pytz.utc)\n",
    "    email_sum = {\n",
    "            \"email_date\": emaildate,\n",
    "            \"_id\": message['Message-ID'],\n",
    "            \"subject\": message['Subject'],\n",
    "            \"text\":str()\n",
    "        }\n",
    "    return email_sum"
   ]
  },
  {
   "cell_type": "code",
   "execution_count": null,
   "metadata": {},
   "outputs": [],
   "source": [
    "def create_file(part):\n",
    "    try:\n",
    "        filename = part.get_filename()\n",
    "        filepath = \"./attachements/\"+filename\n",
    "        fb = open(filepath,'wb')\n",
    "        fb.write(part.get_payload(decode=True))\n",
    "        fb.close()\n",
    "        return filepath\n",
    "    except:\n",
    "        print (\"File not found\", part)\n",
    "        return None"
   ]
  },
  {
   "cell_type": "code",
   "execution_count": null,
   "metadata": {},
   "outputs": [],
   "source": [
    "def get_text_from_pdf(pdf):\n",
    "    try:\n",
    "        filepath = create_file(pdf)\n",
    "        pdfFileObj = open(filepath,'rb')\n",
    "        pdfReader = PyPDF2.PdfFileReader(pdfFileObj)\n",
    "        num_pages = pdfReader.numPages\n",
    "        count = 0\n",
    "        text = \"\"\n",
    "        while count < num_pages:\n",
    "            pageObj = pdfReader.getPage(count)\n",
    "            count +=1\n",
    "            text += pageObj.extractText()\n",
    "        if text == \"\":\n",
    "            print(\"No Text Found in PDF\", filepath)\n",
    "            #we need to do OCR   \n",
    "        return text\n",
    "    except:\n",
    "        print(\"File not found\", filepath)\n",
    "        return \"\""
   ]
  },
  {
   "cell_type": "code",
   "execution_count": null,
   "metadata": {},
   "outputs": [],
   "source": [
    "def get_text_from_docx(doc):\n",
    "    filepath = create_file(doc)\n",
    "    try:\n",
    "        doc = docx.Document(filepath)\n",
    "        text = str()\n",
    "        i=0\n",
    "        for para in doc.paragraphs:\n",
    "            text.append(\"\\n\" + para[i].text)\n",
    "            i=i+1\n",
    "        return text\n",
    "    except:\n",
    "        print(\"File not found\", filepath)\n",
    "        return \"\""
   ]
  },
  {
   "cell_type": "code",
   "execution_count": null,
   "metadata": {},
   "outputs": [],
   "source": [
    "emails = []\n",
    "i=0\n",
    "progressBar = IntProgress(description='Processing emails '+str(len(mbox)), min=0, max=len(mbox), style = {'description_width': 'initial'})\n",
    "progressText = IntText(value=0, description='Processed so far: ', style = {'description_width': 'initial'})\n",
    "display(progressBar, progressText)\n",
    "\n",
    "for message in mbox:\n",
    "    email_sum = create_email_summary(message)\n",
    "    text = str()\n",
    "    if message.get_content_maintype() == 'multipart':\n",
    "        for part in message.walk():\n",
    "            if \"text/plain\" in part.get_content_type():\n",
    "                text += part.get_payload()                \n",
    "            elif \"application/msword\" in part.get_content_type():\n",
    "                if \"docx\" in part.get_filename():\n",
    "                    text += get_text_from_docx(part) \n",
    "            elif \"application/pdf\" in part.get_content_type():\n",
    "                text += get_text_from_pdf(part)\n",
    "        email_sum[\"text\"] = text\n",
    "        emails.append(email_sum)\n",
    "    i=i+1\n",
    "    progressBar.value = i\n",
    "    progressText.value = i"
   ]
  },
  {
   "cell_type": "code",
   "execution_count": null,
   "metadata": {},
   "outputs": [],
   "source": [
    "df = pd.DataFrame(emails)\n",
    "df['cleaned_text'] = np.empty((len(df), 0)).tolist()\n",
    "for index, row in df.iterrows():\n",
    "    df.loc[index,'cleaned_text'].extend(gensim.utils.simple_preprocess(str(row[\"text\"])))\n",
    "df"
   ]
  }
 ],
 "metadata": {
  "kernelspec": {
   "display_name": "Python 3",
   "language": "python",
   "name": "python3"
  },
  "language_info": {
   "codemirror_mode": {
    "name": "ipython",
    "version": 3
   },
   "file_extension": ".py",
   "mimetype": "text/x-python",
   "name": "python",
   "nbconvert_exporter": "python",
   "pygments_lexer": "ipython3",
   "version": "3.6.5"
  }
 },
 "nbformat": 4,
 "nbformat_minor": 2
}
