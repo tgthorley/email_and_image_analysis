{
 "cells": [
  {
   "cell_type": "code",
   "execution_count": 13,
   "metadata": {},
   "outputs": [],
   "source": [
    "import cv2\n",
    "import numpy as np\n",
    "import pandas as pd\n",
    "from pathlib import Path\n",
    "import os\n",
    "from PIL import Image\n",
    "from ipywidgets import IntProgress, IntText\n",
    "from sklearn.decomposition import PCA"
   ]
  },
  {
   "cell_type": "code",
   "execution_count": 2,
   "metadata": {},
   "outputs": [],
   "source": [
    "face_cascade = cv2.CascadeClassifier(cv2.data.haarcascades +'haarcascade_frontalface_default.xml')"
   ]
  },
  {
   "cell_type": "code",
   "execution_count": 81,
   "metadata": {},
   "outputs": [],
   "source": [
    "def convert_image(filename):\n",
    "    image = Image.open(\"./attachements/\"+filename).convert('L').resize((512,512))\n",
    "    output_name = \"./attachements/faces/\"+filename\n",
    "    image.save(output_name, image.format)\n",
    "    return output_name"
   ]
  },
  {
   "cell_type": "code",
   "execution_count": 73,
   "metadata": {},
   "outputs": [],
   "source": [
    "def detect_face(image_path):\n",
    "    image_pil = Image.open(image_path)\n",
    "    image = np.array(image_pil, 'uint8')\n",
    "    # Detect the face in the image\n",
    "    faces = face_cascade.detectMultiScale(image)\n",
    "    if (len(faces) == 0):\n",
    "        return None, None\n",
    "    \n",
    "    (x, y, w, h) = faces[0]\n",
    "    return image[y:y+w, x:x+h], faces[0]"
   ]
  },
  {
   "cell_type": "code",
   "execution_count": 82,
   "metadata": {},
   "outputs": [],
   "source": [
    "def get_images_and_labels(path):\n",
    "    facepath = path+\"faces/\"\n",
    "    No_facepath = path+\"no_faces/\"\n",
    "    if not os.path.exists(facepath):\n",
    "        os.makedirs(facepath)\n",
    "    if not os.path.exists(No_facepath):\n",
    "        os.makedirs(No_facepath)\n",
    "        \n",
    "    image_paths = [os.path.join(path, f) for f in os.listdir(path) if f.endswith('.jpg')]\n",
    "    df = pd.DataFrame(columns=['slug','image'])\n",
    "    label = 0\n",
    "    img = 0\n",
    "    \n",
    "    progressBar = IntProgress(description='Finding faces in '+str(len(image_paths))+ ' images: ', min=0, max=len(image_paths), style = {'description_width': 'initial'})\n",
    "    progressText = IntText(value=0, description='Images searched so far: ', style = {'description_width': 'initial'})\n",
    "    display(progressBar, progressText)\n",
    "    \n",
    "    for image_path in image_paths:\n",
    "        filename = image_path.split('/')[2]\n",
    "        image_pil = Image.open(convert_image(filename))\n",
    "        image = np.array(image_pil, 'uint8')\n",
    "        faces = face_cascade.detectMultiScale(image)\n",
    "        if len(faces) == 0:\n",
    "            os.rename(facepath+filename, No_facepath+filename)\n",
    "        for (x, y, w, h) in faces:\n",
    "            df.loc[label] = [filename, image[y: y + h, x: x + w]]\n",
    "            label +=1\n",
    "        progressBar.value +=1\n",
    "        progressText.value +=1\n",
    "    return df"
   ]
  },
  {
   "cell_type": "code",
   "execution_count": 84,
   "metadata": {},
   "outputs": [
    {
     "data": {
      "application/vnd.jupyter.widget-view+json": {
       "model_id": "a12202ad6a5e4df4a07bf8ff84cfb2ac",
       "version_major": 2,
       "version_minor": 0
      },
      "text/plain": [
       "IntProgress(value=0, description='Finding faces in 293 images: ', max=293, style=ProgressStyle(description_wid…"
      ]
     },
     "metadata": {},
     "output_type": "display_data"
    },
    {
     "data": {
      "application/vnd.jupyter.widget-view+json": {
       "model_id": "88cd3d7486a44e3faf729f65db4617db",
       "version_major": 2,
       "version_minor": 0
      },
      "text/plain": [
       "IntText(value=0, description='Images searched so far: ', style=DescriptionStyle(description_width='initial'))"
      ]
     },
     "metadata": {},
     "output_type": "display_data"
    }
   ],
   "source": [
    "path = './attachements/'\n",
    "\n",
    "df_faces = get_images_and_labels(path)"
   ]
  },
  {
   "cell_type": "code",
   "execution_count": 46,
   "metadata": {},
   "outputs": [],
   "source": [
    "def flatten(list_2d):\n",
    "    flat_list = np.empty(0,)\n",
    "    for l in list_2d:\n",
    "        if type(l[0]) == int or type(l[0]) == np.uint8:\n",
    "            flat_list = np.concatenate((flat_list,np.array(l)))\n",
    "        else:\n",
    "            print(type(l[0]))\n",
    "            \n",
    "    return list(flat_list)"
   ]
  },
  {
   "cell_type": "code",
   "execution_count": 47,
   "metadata": {},
   "outputs": [],
   "source": [
    "df_faces['flat_image'] = df_faces['image'].apply(flatten)"
   ]
  },
  {
   "cell_type": "code",
   "execution_count": 54,
   "metadata": {},
   "outputs": [
    {
     "data": {
      "text/plain": [
       "(101, 3)"
      ]
     },
     "execution_count": 54,
     "metadata": {},
     "output_type": "execute_result"
    }
   ],
   "source": []
  },
  {
   "cell_type": "code",
   "execution_count": 48,
   "metadata": {},
   "outputs": [],
   "source": [
    "vectors = df_faces['flat_image'].apply(pd.Series).fillna(0)"
   ]
  },
  {
   "cell_type": "code",
   "execution_count": 49,
   "metadata": {},
   "outputs": [
    {
     "name": "stdout",
     "output_type": "stream",
     "text": [
      "0.8613621508302944\n"
     ]
    }
   ],
   "source": [
    "c=15\n",
    "pca = PCA(n_components=15)\n",
    "\n",
    "pca_result = pca.fit_transform(vectors.values)\n",
    "print(sum(pca.explained_variance_ratio_))"
   ]
  },
  {
   "cell_type": "code",
   "execution_count": 50,
   "metadata": {},
   "outputs": [],
   "source": [
    "pca_df=pd.DataFrame(index=df_faces['slug'])\n",
    "\n",
    "for column in range(c):\n",
    "    c_str = \"pca-\" + str(column)\n",
    "    pca_df[c_str] = pca_result[:,column]"
   ]
  },
  {
   "cell_type": "code",
   "execution_count": 51,
   "metadata": {},
   "outputs": [
    {
     "data": {
      "text/html": [
       "<div>\n",
       "<style scoped>\n",
       "    .dataframe tbody tr th:only-of-type {\n",
       "        vertical-align: middle;\n",
       "    }\n",
       "\n",
       "    .dataframe tbody tr th {\n",
       "        vertical-align: top;\n",
       "    }\n",
       "\n",
       "    .dataframe thead th {\n",
       "        text-align: right;\n",
       "    }\n",
       "</style>\n",
       "<table border=\"1\" class=\"dataframe\">\n",
       "  <thead>\n",
       "    <tr style=\"text-align: right;\">\n",
       "      <th></th>\n",
       "      <th>pca-0</th>\n",
       "      <th>pca-1</th>\n",
       "      <th>pca-2</th>\n",
       "      <th>pca-3</th>\n",
       "      <th>pca-4</th>\n",
       "      <th>pca-5</th>\n",
       "      <th>pca-6</th>\n",
       "      <th>pca-7</th>\n",
       "      <th>pca-8</th>\n",
       "      <th>pca-9</th>\n",
       "      <th>pca-10</th>\n",
       "      <th>pca-11</th>\n",
       "      <th>pca-12</th>\n",
       "      <th>pca-13</th>\n",
       "      <th>pca-14</th>\n",
       "    </tr>\n",
       "    <tr>\n",
       "      <th>slug</th>\n",
       "      <th></th>\n",
       "      <th></th>\n",
       "      <th></th>\n",
       "      <th></th>\n",
       "      <th></th>\n",
       "      <th></th>\n",
       "      <th></th>\n",
       "      <th></th>\n",
       "      <th></th>\n",
       "      <th></th>\n",
       "      <th></th>\n",
       "      <th></th>\n",
       "      <th></th>\n",
       "      <th></th>\n",
       "      <th></th>\n",
       "    </tr>\n",
       "  </thead>\n",
       "  <tbody>\n",
       "    <tr>\n",
       "      <th>attachements</th>\n",
       "      <td>-4286.891345</td>\n",
       "      <td>3460.901705</td>\n",
       "      <td>-2287.053958</td>\n",
       "      <td>237.517989</td>\n",
       "      <td>558.684153</td>\n",
       "      <td>-490.481738</td>\n",
       "      <td>-198.597786</td>\n",
       "      <td>-50.601145</td>\n",
       "      <td>-73.618074</td>\n",
       "      <td>-415.938519</td>\n",
       "      <td>-135.252814</td>\n",
       "      <td>-23.527230</td>\n",
       "      <td>41.409421</td>\n",
       "      <td>-124.889636</td>\n",
       "      <td>-9.713776</td>\n",
       "    </tr>\n",
       "    <tr>\n",
       "      <th>attachements</th>\n",
       "      <td>-1153.032927</td>\n",
       "      <td>-2150.543513</td>\n",
       "      <td>1667.082188</td>\n",
       "      <td>334.773203</td>\n",
       "      <td>1047.195609</td>\n",
       "      <td>-239.317252</td>\n",
       "      <td>-1668.788283</td>\n",
       "      <td>798.512159</td>\n",
       "      <td>-15.490188</td>\n",
       "      <td>-261.884251</td>\n",
       "      <td>-73.156095</td>\n",
       "      <td>-43.022641</td>\n",
       "      <td>-357.317946</td>\n",
       "      <td>-525.228536</td>\n",
       "      <td>-145.988663</td>\n",
       "    </tr>\n",
       "    <tr>\n",
       "      <th>attachements</th>\n",
       "      <td>-2545.834089</td>\n",
       "      <td>-825.942418</td>\n",
       "      <td>2834.185768</td>\n",
       "      <td>-1385.451985</td>\n",
       "      <td>-1263.059639</td>\n",
       "      <td>610.877648</td>\n",
       "      <td>1016.270799</td>\n",
       "      <td>-561.447266</td>\n",
       "      <td>109.605345</td>\n",
       "      <td>929.294219</td>\n",
       "      <td>239.390534</td>\n",
       "      <td>272.122708</td>\n",
       "      <td>-473.716454</td>\n",
       "      <td>-401.944122</td>\n",
       "      <td>102.523006</td>\n",
       "    </tr>\n",
       "    <tr>\n",
       "      <th>attachements</th>\n",
       "      <td>1366.113334</td>\n",
       "      <td>-3876.920109</td>\n",
       "      <td>-222.711948</td>\n",
       "      <td>1702.719213</td>\n",
       "      <td>-165.706237</td>\n",
       "      <td>1612.910032</td>\n",
       "      <td>-847.769288</td>\n",
       "      <td>-19.787991</td>\n",
       "      <td>263.359985</td>\n",
       "      <td>1318.416591</td>\n",
       "      <td>421.040455</td>\n",
       "      <td>663.930982</td>\n",
       "      <td>-966.693104</td>\n",
       "      <td>-1182.107525</td>\n",
       "      <td>-634.292573</td>\n",
       "    </tr>\n",
       "    <tr>\n",
       "      <th>attachements</th>\n",
       "      <td>-4180.899985</td>\n",
       "      <td>3094.990900</td>\n",
       "      <td>-1755.677415</td>\n",
       "      <td>4.079230</td>\n",
       "      <td>142.684588</td>\n",
       "      <td>439.836546</td>\n",
       "      <td>-714.005781</td>\n",
       "      <td>232.218882</td>\n",
       "      <td>-7.246643</td>\n",
       "      <td>-347.002399</td>\n",
       "      <td>-125.764940</td>\n",
       "      <td>-258.865312</td>\n",
       "      <td>209.810218</td>\n",
       "      <td>144.412378</td>\n",
       "      <td>-139.544183</td>\n",
       "    </tr>\n",
       "  </tbody>\n",
       "</table>\n",
       "</div>"
      ],
      "text/plain": [
       "                    pca-0        pca-1        pca-2        pca-3        pca-4  \\\n",
       "slug                                                                            \n",
       "attachements -4286.891345  3460.901705 -2287.053958   237.517989   558.684153   \n",
       "attachements -1153.032927 -2150.543513  1667.082188   334.773203  1047.195609   \n",
       "attachements -2545.834089  -825.942418  2834.185768 -1385.451985 -1263.059639   \n",
       "attachements  1366.113334 -3876.920109  -222.711948  1702.719213  -165.706237   \n",
       "attachements -4180.899985  3094.990900 -1755.677415     4.079230   142.684588   \n",
       "\n",
       "                    pca-5        pca-6       pca-7       pca-8        pca-9  \\\n",
       "slug                                                                          \n",
       "attachements  -490.481738  -198.597786  -50.601145  -73.618074  -415.938519   \n",
       "attachements  -239.317252 -1668.788283  798.512159  -15.490188  -261.884251   \n",
       "attachements   610.877648  1016.270799 -561.447266  109.605345   929.294219   \n",
       "attachements  1612.910032  -847.769288  -19.787991  263.359985  1318.416591   \n",
       "attachements   439.836546  -714.005781  232.218882   -7.246643  -347.002399   \n",
       "\n",
       "                  pca-10      pca-11      pca-12       pca-13      pca-14  \n",
       "slug                                                                       \n",
       "attachements -135.252814  -23.527230   41.409421  -124.889636   -9.713776  \n",
       "attachements  -73.156095  -43.022641 -357.317946  -525.228536 -145.988663  \n",
       "attachements  239.390534  272.122708 -473.716454  -401.944122  102.523006  \n",
       "attachements  421.040455  663.930982 -966.693104 -1182.107525 -634.292573  \n",
       "attachements -125.764940 -258.865312  209.810218   144.412378 -139.544183  "
      ]
     },
     "execution_count": 51,
     "metadata": {},
     "output_type": "execute_result"
    }
   ],
   "source": [
    "pca_df.head()"
   ]
  },
  {
   "cell_type": "code",
   "execution_count": 52,
   "metadata": {},
   "outputs": [],
   "source": [
    "pca_df.to_csv(\"./data/faces.csv\", encoding='utf-8')"
   ]
  },
  {
   "cell_type": "code",
   "execution_count": null,
   "metadata": {},
   "outputs": [],
   "source": []
  }
 ],
 "metadata": {
  "kernelspec": {
   "display_name": "Python 3",
   "language": "python",
   "name": "python3"
  },
  "language_info": {
   "codemirror_mode": {
    "name": "ipython",
    "version": 3
   },
   "file_extension": ".py",
   "mimetype": "text/x-python",
   "name": "python",
   "nbconvert_exporter": "python",
   "pygments_lexer": "ipython3",
   "version": "3.6.5"
  }
 },
 "nbformat": 4,
 "nbformat_minor": 2
}
