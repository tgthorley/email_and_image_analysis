{
 "cells": [
  {
   "cell_type": "code",
   "execution_count": null,
   "metadata": {},
   "outputs": [],
   "source": [
    "import cv2\n",
    "import numpy as np\n",
    "import pandas as pd\n",
    "from pathlib import Path\n",
    "import os\n",
    "from PIL import Image\n",
    "from ipywidgets import IntProgress, IntText\n",
    "from sklearn.decomposition import PCA"
   ]
  },
  {
   "cell_type": "code",
   "execution_count": null,
   "metadata": {},
   "outputs": [],
   "source": [
    "face_cascade = cv2.CascadeClassifier(cv2.data.haarcascades +'haarcascade_frontalface_default.xml')"
   ]
  },
  {
   "cell_type": "code",
   "execution_count": null,
   "metadata": {},
   "outputs": [],
   "source": [
    "def convert_image(filename):\n",
    "    image = Image.open(\"./attachements/\"+filename).convert('L').resize((512,512))\n",
    "    output_name = \"./attachements/faces/\"+filename\n",
    "    image.save(output_name, image.format)\n",
    "    return output_name"
   ]
  },
  {
   "cell_type": "code",
   "execution_count": null,
   "metadata": {},
   "outputs": [],
   "source": [
    "def detect_face(image_path):\n",
    "    image_pil = Image.open(image_path)\n",
    "    image = np.array(image_pil, 'uint8')\n",
    "    # Detect the face in the image\n",
    "    faces = face_cascade.detectMultiScale(image)\n",
    "    if (len(faces) == 0):\n",
    "        return None, None\n",
    "    \n",
    "    (x, y, w, h) = faces[0]\n",
    "    return image[y:y+w, x:x+h], faces[0]"
   ]
  },
  {
   "cell_type": "code",
   "execution_count": null,
   "metadata": {},
   "outputs": [],
   "source": [
    "def get_images_and_labels(path):\n",
    "    facepath = path+\"faces/\"\n",
    "    No_facepath = path+\"no_faces/\"\n",
    "    if not os.path.exists(facepath):\n",
    "        os.makedirs(facepath)\n",
    "    if not os.path.exists(No_facepath):\n",
    "        os.makedirs(No_facepath)\n",
    "        \n",
    "    image_paths = [os.path.join(path, f) for f in os.listdir(path) if f.endswith('.jpg')]\n",
    "    df = pd.DataFrame(columns=['slug','image'])\n",
    "    label = 0\n",
    "    img = 0\n",
    "    \n",
    "    progressBar = IntProgress(description='Finding faces in '+str(len(image_paths))+ ' images: ', min=0, max=len(image_paths), style = {'description_width': 'initial'})\n",
    "    progressText = IntText(value=0, description='Images searched so far: ', style = {'description_width': 'initial'})\n",
    "    display(progressBar, progressText)\n",
    "    \n",
    "    for image_path in image_paths:\n",
    "        filename = image_path.split('/')[2]\n",
    "        image_pil = Image.open(convert_image(filename))\n",
    "        image = np.array(image_pil, 'uint8')\n",
    "        faces = face_cascade.detectMultiScale(image)\n",
    "        if len(faces) == 0:\n",
    "            os.rename(facepath+filename, No_facepath+filename)\n",
    "        for (x, y, w, h) in faces:\n",
    "            df.loc[label] = [filename, image[y: y + h, x: x + w]]\n",
    "            label +=1\n",
    "        progressBar.value +=1\n",
    "        progressText.value +=1\n",
    "    return df"
   ]
  },
  {
   "cell_type": "code",
   "execution_count": null,
   "metadata": {},
   "outputs": [],
   "source": [
    "path = './attachements/'\n",
    "\n",
    "df_faces = get_images_and_labels(path)"
   ]
  },
  {
   "cell_type": "code",
   "execution_count": null,
   "metadata": {},
   "outputs": [],
   "source": [
    "def flatten(list_2d):\n",
    "    flat_list = np.empty(0,)\n",
    "    for l in list_2d:\n",
    "        if type(l[0]) == int or type(l[0]) == np.uint8:\n",
    "            flat_list = np.concatenate((flat_list,np.array(l)))\n",
    "        else:\n",
    "            print(type(l[0]))\n",
    "            \n",
    "    return list(flat_list)"
   ]
  },
  {
   "cell_type": "code",
   "execution_count": null,
   "metadata": {},
   "outputs": [],
   "source": [
    "df_faces['flat_image'] = df_faces['image'].apply(flatten)"
   ]
  },
  {
   "cell_type": "code",
   "execution_count": null,
   "metadata": {},
   "outputs": [],
   "source": [
    "vectors = df_faces['flat_image'].apply(pd.Series).fillna(0)"
   ]
  },
  {
   "cell_type": "code",
   "execution_count": null,
   "metadata": {},
   "outputs": [],
   "source": [
    "c=15\n",
    "pca = PCA(n_components=15)\n",
    "\n",
    "pca_result = pca.fit_transform(vectors.values)\n",
    "print(sum(pca.explained_variance_ratio_))"
   ]
  },
  {
   "cell_type": "code",
   "execution_count": null,
   "metadata": {},
   "outputs": [],
   "source": [
    "pca_df=pd.DataFrame(index=df_faces['slug'])\n",
    "\n",
    "for column in range(c):\n",
    "    c_str = \"pca-\" + str(column)\n",
    "    pca_df[c_str] = pca_result[:,column]"
   ]
  },
  {
   "cell_type": "code",
   "execution_count": null,
   "metadata": {},
   "outputs": [],
   "source": [
    "pca_df.head()"
   ]
  },
  {
   "cell_type": "code",
   "execution_count": null,
   "metadata": {},
   "outputs": [],
   "source": [
    "pca_df.to_csv(\"./data/faces.csv\", encoding='utf-8')"
   ]
  }
 ],
 "metadata": {
  "kernelspec": {
   "display_name": "Python 3",
   "language": "python",
   "name": "python3"
  },
  "language_info": {
   "codemirror_mode": {
    "name": "ipython",
    "version": 3
   },
   "file_extension": ".py",
   "mimetype": "text/x-python",
   "name": "python",
   "nbconvert_exporter": "python",
   "pygments_lexer": "ipython3",
   "version": "3.6.5"
  }
 },
 "nbformat": 4,
 "nbformat_minor": 2
}
