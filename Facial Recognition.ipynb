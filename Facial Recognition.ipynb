{
 "cells": [
  {
   "cell_type": "code",
   "execution_count": 1,
   "metadata": {},
   "outputs": [],
   "source": [
    "import cv2\n",
    "import numpy as np\n",
    "import pandas as pd\n",
    "from pathlib import Path\n",
    "import os\n",
    "from PIL import Image\n",
    "from ipywidgets import IntProgress, IntText\n",
    "from sklearn.decomposition import PCA\n",
    "import imagehash"
   ]
  },
  {
   "cell_type": "code",
   "execution_count": 2,
   "metadata": {},
   "outputs": [],
   "source": [
    "face_cascade = cv2.CascadeClassifier(cv2.data.haarcascades +'haarcascade_frontalface_default.xml')"
   ]
  },
  {
   "cell_type": "code",
   "execution_count": 3,
   "metadata": {},
   "outputs": [],
   "source": [
    "def convert_image(filename):\n",
    "    image = Image.open(\"./attachements/\"+filename).convert('L').resize((512,512))\n",
    "    output_name = \"./attachements/faces/\"+filename\n",
    "    image.save(output_name, image.format)\n",
    "    return output_name"
   ]
  },
  {
   "cell_type": "code",
   "execution_count": 10,
   "metadata": {},
   "outputs": [],
   "source": [
    "def is_image(filename):\n",
    "        f = filename.lower()\n",
    "        return f.endswith(\".png\") or f.endswith(\".jpg\") or \\\n",
    "            f.endswith(\".jpeg\") or f.endswith(\".bmp\") or f.endswith(\".gif\")"
   ]
  },
  {
   "cell_type": "code",
   "execution_count": 5,
   "metadata": {},
   "outputs": [],
   "source": [
    "def detect_face(image_path):\n",
    "    image_pil = Image.open(image_path)\n",
    "    image = np.array(image_pil, 'uint8')\n",
    "    # Detect the face in the image\n",
    "    faces = face_cascade.detectMultiScale(image)\n",
    "    if (len(faces) == 0):\n",
    "        return None, None\n",
    "    \n",
    "    (x, y, w, h) = faces[0]\n",
    "    return image[y:y+w, x:x+h], faces[0]"
   ]
  },
  {
   "cell_type": "code",
   "execution_count": 8,
   "metadata": {},
   "outputs": [],
   "source": [
    "def get_images_and_labels(path):\n",
    "    facepath = path+\"faces/\"\n",
    "    No_facepath = path+\"no_faces/\"\n",
    "    if not os.path.exists(facepath):\n",
    "        os.makedirs(facepath)\n",
    "    if not os.path.exists(No_facepath):\n",
    "        os.makedirs(No_facepath)\n",
    "        \n",
    "    image_paths = [os.path.join(path, f) for f in os.listdir(path) if is_image(f)]\n",
    "    df = pd.DataFrame(columns=['filename','image','hash'])\n",
    "    label = 0\n",
    "    img = 0\n",
    "    \n",
    "    progressBar = IntProgress(description='Finding faces in '+str(len(image_paths))+ ' images: ', min=0, max=len(image_paths), style = {'description_width': 'initial'})\n",
    "    progressText = IntText(value=0, description='Images searched so far: ', style = {'description_width': 'initial'})\n",
    "    display(progressBar, progressText)\n",
    "    \n",
    "    for image_path in image_paths:\n",
    "        filename = image_path.split('/')[2]\n",
    "        image_pil = Image.open(convert_image(filename))\n",
    "        img_hash = imagehash.average_hash(image_pil)\n",
    "        image = np.array(image_pil, 'uint8')\n",
    "        faces = face_cascade.detectMultiScale(image)\n",
    "        if len(faces) == 0:\n",
    "            os.rename(facepath+filename, No_facepath+filename)\n",
    "            df.loc[label] = [filename,'', img_hash]\n",
    "            label +=1\n",
    "        else:\n",
    "            for (x, y, w, h) in faces:\n",
    "                df.loc[label] = [filename, image[y: y + h, x: x + w], img_hash]\n",
    "                label +=1\n",
    "        progressBar.value +=1\n",
    "        progressText.value +=1\n",
    "    return df"
   ]
  },
  {
   "cell_type": "code",
   "execution_count": 11,
   "metadata": {},
   "outputs": [
    {
     "data": {
      "application/vnd.jupyter.widget-view+json": {
       "model_id": "ee5109bb84b949e1b896b45d51798073",
       "version_major": 2,
       "version_minor": 0
      },
      "text/plain": [
       "IntProgress(value=0, description='Finding faces in 450 images: ', max=450, style=ProgressStyle(description_wid…"
      ]
     },
     "metadata": {},
     "output_type": "display_data"
    },
    {
     "data": {
      "application/vnd.jupyter.widget-view+json": {
       "model_id": "e69edcd4dcac452b8b3eb4633fc0bc75",
       "version_major": 2,
       "version_minor": 0
      },
      "text/plain": [
       "IntText(value=0, description='Images searched so far: ', style=DescriptionStyle(description_width='initial'))"
      ]
     },
     "metadata": {},
     "output_type": "display_data"
    }
   ],
   "source": [
    "path = './attachements/'\n",
    "\n",
    "df_faces = get_images_and_labels(path)"
   ]
  },
  {
   "cell_type": "code",
   "execution_count": 12,
   "metadata": {},
   "outputs": [],
   "source": [
    "def flatten(list_2d):\n",
    "    flat_list = np.empty(0,)\n",
    "    for l in list_2d:\n",
    "        if type(l[0]) == int or type(l[0]) == np.uint8:\n",
    "            flat_list = np.concatenate((flat_list,np.array(l)))\n",
    "        else:\n",
    "            print(type(l[0]))\n",
    "            \n",
    "    return list(flat_list)"
   ]
  },
  {
   "cell_type": "code",
   "execution_count": 13,
   "metadata": {},
   "outputs": [],
   "source": [
    "df_faces['flat_image'] = df_faces['image'].apply(flatten)"
   ]
  },
  {
   "cell_type": "code",
   "execution_count": 14,
   "metadata": {},
   "outputs": [],
   "source": [
    "vectors = df_faces['flat_image'].apply(pd.Series).fillna(0)"
   ]
  },
  {
   "cell_type": "code",
   "execution_count": 15,
   "metadata": {},
   "outputs": [
    {
     "name": "stdout",
     "output_type": "stream",
     "text": [
      "0.8840836508080817\n"
     ]
    }
   ],
   "source": [
    "c=15\n",
    "pca = PCA(n_components=15)\n",
    "\n",
    "pca_result = pca.fit_transform(vectors.values)\n",
    "print(sum(pca.explained_variance_ratio_))"
   ]
  },
  {
   "cell_type": "code",
   "execution_count": 18,
   "metadata": {},
   "outputs": [],
   "source": [
    "pca_df=pd.DataFrame(index=df_faces['filename'])\n",
    "\n",
    "for column in range(c):\n",
    "    c_str = \"pca-\" + str(column)\n",
    "    pca_df[c_str] = pca_result[:,column]"
   ]
  },
  {
   "cell_type": "code",
   "execution_count": 19,
   "metadata": {},
   "outputs": [
    {
     "data": {
      "text/html": [
       "<div>\n",
       "<style scoped>\n",
       "    .dataframe tbody tr th:only-of-type {\n",
       "        vertical-align: middle;\n",
       "    }\n",
       "\n",
       "    .dataframe tbody tr th {\n",
       "        vertical-align: top;\n",
       "    }\n",
       "\n",
       "    .dataframe thead th {\n",
       "        text-align: right;\n",
       "    }\n",
       "</style>\n",
       "<table border=\"1\" class=\"dataframe\">\n",
       "  <thead>\n",
       "    <tr style=\"text-align: right;\">\n",
       "      <th></th>\n",
       "      <th>pca-0</th>\n",
       "      <th>pca-1</th>\n",
       "      <th>pca-2</th>\n",
       "      <th>pca-3</th>\n",
       "      <th>pca-4</th>\n",
       "      <th>pca-5</th>\n",
       "      <th>pca-6</th>\n",
       "      <th>pca-7</th>\n",
       "      <th>pca-8</th>\n",
       "      <th>pca-9</th>\n",
       "      <th>pca-10</th>\n",
       "      <th>pca-11</th>\n",
       "      <th>pca-12</th>\n",
       "      <th>pca-13</th>\n",
       "      <th>pca-14</th>\n",
       "    </tr>\n",
       "    <tr>\n",
       "      <th>filename</th>\n",
       "      <th></th>\n",
       "      <th></th>\n",
       "      <th></th>\n",
       "      <th></th>\n",
       "      <th></th>\n",
       "      <th></th>\n",
       "      <th></th>\n",
       "      <th></th>\n",
       "      <th></th>\n",
       "      <th></th>\n",
       "      <th></th>\n",
       "      <th></th>\n",
       "      <th></th>\n",
       "      <th></th>\n",
       "      <th></th>\n",
       "    </tr>\n",
       "  </thead>\n",
       "  <tbody>\n",
       "    <tr>\n",
       "      <th>115112414280106035.png</th>\n",
       "      <td>-3376.582794</td>\n",
       "      <td>1984.159923</td>\n",
       "      <td>-920.523419</td>\n",
       "      <td>-474.713471</td>\n",
       "      <td>-118.332401</td>\n",
       "      <td>172.430943</td>\n",
       "      <td>136.360839</td>\n",
       "      <td>79.730272</td>\n",
       "      <td>-111.081101</td>\n",
       "      <td>-69.563377</td>\n",
       "      <td>26.102781</td>\n",
       "      <td>-43.883006</td>\n",
       "      <td>-51.687309</td>\n",
       "      <td>30.332052</td>\n",
       "      <td>-14.202686</td>\n",
       "    </tr>\n",
       "    <tr>\n",
       "      <th>IMG_20150425_132120.jpg</th>\n",
       "      <td>-3376.582794</td>\n",
       "      <td>1984.159923</td>\n",
       "      <td>-920.523419</td>\n",
       "      <td>-474.713471</td>\n",
       "      <td>-118.332401</td>\n",
       "      <td>172.430943</td>\n",
       "      <td>136.360839</td>\n",
       "      <td>79.730272</td>\n",
       "      <td>-111.081101</td>\n",
       "      <td>-69.563377</td>\n",
       "      <td>26.102781</td>\n",
       "      <td>-43.883006</td>\n",
       "      <td>-51.687309</td>\n",
       "      <td>30.332052</td>\n",
       "      <td>-14.202686</td>\n",
       "    </tr>\n",
       "    <tr>\n",
       "      <th>IMG_20150210_162955.jpg</th>\n",
       "      <td>-3376.582794</td>\n",
       "      <td>1984.159923</td>\n",
       "      <td>-920.523419</td>\n",
       "      <td>-474.713471</td>\n",
       "      <td>-118.332401</td>\n",
       "      <td>172.430943</td>\n",
       "      <td>136.360839</td>\n",
       "      <td>79.730272</td>\n",
       "      <td>-111.081101</td>\n",
       "      <td>-69.563377</td>\n",
       "      <td>26.102781</td>\n",
       "      <td>-43.883006</td>\n",
       "      <td>-51.687309</td>\n",
       "      <td>30.332052</td>\n",
       "      <td>-14.202686</td>\n",
       "    </tr>\n",
       "    <tr>\n",
       "      <th>DSC_1058.jpg</th>\n",
       "      <td>-3376.582794</td>\n",
       "      <td>1984.159923</td>\n",
       "      <td>-920.523419</td>\n",
       "      <td>-474.713471</td>\n",
       "      <td>-118.332401</td>\n",
       "      <td>172.430943</td>\n",
       "      <td>136.360839</td>\n",
       "      <td>79.730272</td>\n",
       "      <td>-111.081101</td>\n",
       "      <td>-69.563377</td>\n",
       "      <td>26.102781</td>\n",
       "      <td>-43.883006</td>\n",
       "      <td>-51.687309</td>\n",
       "      <td>30.332052</td>\n",
       "      <td>-14.202686</td>\n",
       "    </tr>\n",
       "    <tr>\n",
       "      <th>20170215_121045.jpg</th>\n",
       "      <td>-1406.930152</td>\n",
       "      <td>-1360.536186</td>\n",
       "      <td>2255.892180</td>\n",
       "      <td>2202.637337</td>\n",
       "      <td>549.768010</td>\n",
       "      <td>-1303.395063</td>\n",
       "      <td>-753.089846</td>\n",
       "      <td>-231.856124</td>\n",
       "      <td>292.627192</td>\n",
       "      <td>-72.947747</td>\n",
       "      <td>41.407711</td>\n",
       "      <td>-72.303217</td>\n",
       "      <td>-190.590595</td>\n",
       "      <td>29.364069</td>\n",
       "      <td>31.637323</td>\n",
       "    </tr>\n",
       "  </tbody>\n",
       "</table>\n",
       "</div>"
      ],
      "text/plain": [
       "                               pca-0        pca-1        pca-2        pca-3  \\\n",
       "filename                                                                      \n",
       "115112414280106035.png  -3376.582794  1984.159923  -920.523419  -474.713471   \n",
       "IMG_20150425_132120.jpg -3376.582794  1984.159923  -920.523419  -474.713471   \n",
       "IMG_20150210_162955.jpg -3376.582794  1984.159923  -920.523419  -474.713471   \n",
       "DSC_1058.jpg            -3376.582794  1984.159923  -920.523419  -474.713471   \n",
       "20170215_121045.jpg     -1406.930152 -1360.536186  2255.892180  2202.637337   \n",
       "\n",
       "                              pca-4        pca-5       pca-6       pca-7  \\\n",
       "filename                                                                   \n",
       "115112414280106035.png  -118.332401   172.430943  136.360839   79.730272   \n",
       "IMG_20150425_132120.jpg -118.332401   172.430943  136.360839   79.730272   \n",
       "IMG_20150210_162955.jpg -118.332401   172.430943  136.360839   79.730272   \n",
       "DSC_1058.jpg            -118.332401   172.430943  136.360839   79.730272   \n",
       "20170215_121045.jpg      549.768010 -1303.395063 -753.089846 -231.856124   \n",
       "\n",
       "                              pca-8      pca-9     pca-10     pca-11  \\\n",
       "filename                                                               \n",
       "115112414280106035.png  -111.081101 -69.563377  26.102781 -43.883006   \n",
       "IMG_20150425_132120.jpg -111.081101 -69.563377  26.102781 -43.883006   \n",
       "IMG_20150210_162955.jpg -111.081101 -69.563377  26.102781 -43.883006   \n",
       "DSC_1058.jpg            -111.081101 -69.563377  26.102781 -43.883006   \n",
       "20170215_121045.jpg      292.627192 -72.947747  41.407711 -72.303217   \n",
       "\n",
       "                             pca-12     pca-13     pca-14  \n",
       "filename                                                   \n",
       "115112414280106035.png   -51.687309  30.332052 -14.202686  \n",
       "IMG_20150425_132120.jpg  -51.687309  30.332052 -14.202686  \n",
       "IMG_20150210_162955.jpg  -51.687309  30.332052 -14.202686  \n",
       "DSC_1058.jpg             -51.687309  30.332052 -14.202686  \n",
       "20170215_121045.jpg     -190.590595  29.364069  31.637323  "
      ]
     },
     "execution_count": 19,
     "metadata": {},
     "output_type": "execute_result"
    }
   ],
   "source": [
    "pca_df.head()"
   ]
  },
  {
   "cell_type": "code",
   "execution_count": 20,
   "metadata": {},
   "outputs": [],
   "source": [
    "pca_df.to_csv(\"./data/faces.csv\", encoding='utf-8')"
   ]
  }
 ],
 "metadata": {
  "kernelspec": {
   "display_name": "Python 3",
   "language": "python",
   "name": "python3"
  },
  "language_info": {
   "codemirror_mode": {
    "name": "ipython",
    "version": 3
   },
   "file_extension": ".py",
   "mimetype": "text/x-python",
   "name": "python",
   "nbconvert_exporter": "python",
   "pygments_lexer": "ipython3",
   "version": "3.6.5"
  }
 },
 "nbformat": 4,
 "nbformat_minor": 2
}
